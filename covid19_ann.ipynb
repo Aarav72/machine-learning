{
  "cells": [
    {
      "cell_type": "markdown",
      "metadata": {
        "id": "view-in-github",
        "colab_type": "text"
      },
      "source": [
        "<a href=\"https://colab.research.google.com/github/ashutosh7i/Machine_Learning_Lab/blob/main/Copy_of_CO_CT_III_Yr_Image_Classification_using_ANN.ipynb\" target=\"_parent\"><img src=\"https://colab.research.google.com/assets/colab-badge.svg\" alt=\"Open In Colab\"/></a>"
      ]
    },
    {
      "cell_type": "markdown",
      "metadata": {
        "id": "JT4a4dwlqhsd"
      },
      "source": [
        "# Joint Online Faculty Development programme on Deep Learning (Parallel Architecture) Aug 23 – Sep 3 , 2021"
      ]
    },
    {
      "cell_type": "markdown",
      "metadata": {
        "id": "XwMdAK1XqmPI"
      },
      "source": [
        "# Tutorial 4: Covid 19 Prediction using Artificial Neural Networks"
      ]
    },
    {
      "cell_type": "markdown",
      "metadata": {
        "id": "y9dbM1bxjvnU"
      },
      "source": [
        "Dataset: [Covid 19 Chest X-ray dataset](https://www.kaggle.com/tawsifurrahman/covid19-radiography-database)\n",
        "\n",
        "\n",
        "A team of researchers from Qatar University, Doha, Qatar, and the University of Dhaka, Bangladesh along with their collaborators from Pakistan and Malaysia in collaboration with medical doctors have created a database of chest X-ray images for COVID-19 positive cases along with Normal and Viral Pneumonia images. This COVID-19, normal, and other lung infection dataset is released in stages. In the first release, we have released 219 COVID-19, 1341 normal, and 1345 viral pneumonia chest X-ray (CXR) images. In the first update, we have increased the COVID-19 class to 1200 CXR images. In the 2nd update, we have increased the database to 3616 COVID-19 positive cases along with 10,192 Normal, 6012 Lung Opacity (Non-COVID lung infection), and 1345 Viral Pneumonia images. We will continue to update this database as soon as we have new x-ray images for COVID-19 pneumonia patients.\n",
        "\n"
      ]
    },
    {
      "cell_type": "markdown",
      "metadata": {
        "id": "9mHnC6nNtBK1"
      },
      "source": [
        "**1. Mount the Google Drive**"
      ]
    },
    {
      "cell_type": "code",
      "execution_count": 40,
      "metadata": {
        "colab": {
          "base_uri": "https://localhost:8080/"
        },
        "id": "gORvsC4_s_fY",
        "outputId": "8a0147dc-c9d3-4a49-874c-449f04737892"
      },
      "outputs": [
        {
          "output_type": "stream",
          "name": "stdout",
          "text": [
            "Drive already mounted at /content/drive; to attempt to forcibly remount, call drive.mount(\"/content/drive\", force_remount=True).\n"
          ]
        }
      ],
      "source": [
        "from google.colab import drive\n",
        "drive.mount('/content/drive')"
      ]
    },
    {
      "cell_type": "markdown",
      "metadata": {
        "id": "wiZOocimtGeu"
      },
      "source": [
        "**2. Move to the place where data resides**"
      ]
    },
    {
      "cell_type": "code",
      "execution_count": 41,
      "metadata": {
        "colab": {
          "base_uri": "https://localhost:8080/"
        },
        "id": "EdbGFIkPlah9",
        "outputId": "9fda7ce2-a5ea-4ef1-8c3a-35ba88e151bd"
      },
      "outputs": [
        {
          "output_type": "stream",
          "name": "stdout",
          "text": [
            "/content/drive/MyDrive/24Aug21\n"
          ]
        }
      ],
      "source": [
        "cd /content/drive/MyDrive/24Aug21"
      ]
    },
    {
      "cell_type": "code",
      "execution_count": 42,
      "metadata": {
        "colab": {
          "base_uri": "https://localhost:8080/"
        },
        "id": "lqViJFpyjxJZ",
        "outputId": "be4abc00-2839-4289-a63c-8d215fd968b2"
      },
      "outputs": [
        {
          "output_type": "stream",
          "name": "stdout",
          "text": [
            "covid_classification.h5  covid_classification_weights.h5  \u001b[0m\u001b[01;34mcovid_dataset\u001b[0m/  covid_dataset.zip  \u001b[01;34msplit\u001b[0m/\n"
          ]
        }
      ],
      "source": [
        "ls"
      ]
    },
    {
      "cell_type": "markdown",
      "metadata": {
        "id": "0e8v2RY-tKUs"
      },
      "source": [
        "**3. Unziping the dataset**"
      ]
    },
    {
      "cell_type": "code",
      "execution_count": 43,
      "metadata": {
        "colab": {
          "base_uri": "https://localhost:8080/"
        },
        "id": "PYfX_i50jzOc",
        "outputId": "aaceeb4b-885c-4a92-fe48-3800687c9d79"
      },
      "outputs": [
        {
          "output_type": "stream",
          "name": "stdout",
          "text": [
            "Requirement already satisfied: unzip in /usr/local/lib/python3.10/dist-packages (1.0.0)\n"
          ]
        }
      ],
      "source": [
        "!pip install unzip"
      ]
    },
    {
      "cell_type": "code",
      "execution_count": 44,
      "metadata": {
        "colab": {
          "base_uri": "https://localhost:8080/"
        },
        "id": "kOWDshT6lb8K",
        "outputId": "17a97c33-e1ae-46d6-e3ca-0496866900a6"
      },
      "outputs": [
        {
          "output_type": "stream",
          "name": "stdout",
          "text": [
            "Archive:  covid_dataset.zip\n",
            "replace covid_dataset/COVID/COVID-1.png? [y]es, [n]o, [A]ll, [N]one, [r]ename: "
          ]
        }
      ],
      "source": [
        "!unzip covid_dataset.zip"
      ]
    },
    {
      "cell_type": "markdown",
      "metadata": {
        "id": "xvuRmzA0tNw0"
      },
      "source": [
        "**4. Install split folder python package**\n",
        "\n",
        "https://pypi.org/project/split-folders/"
      ]
    },
    {
      "cell_type": "code",
      "execution_count": 45,
      "metadata": {
        "colab": {
          "base_uri": "https://localhost:8080/"
        },
        "id": "r-4b_r2qlenB",
        "outputId": "617f8749-9791-40e1-d037-e802a0e92d97"
      },
      "outputs": [
        {
          "output_type": "stream",
          "name": "stdout",
          "text": [
            "Requirement already satisfied: split_folders in /usr/local/lib/python3.10/dist-packages (0.5.1)\n"
          ]
        }
      ],
      "source": [
        "!pip install split_folders"
      ]
    },
    {
      "cell_type": "markdown",
      "metadata": {
        "id": "yq0KuuUatVi-"
      },
      "source": [
        "**5. Splitting the data in training, testing and validation set**"
      ]
    },
    {
      "cell_type": "code",
      "execution_count": 46,
      "metadata": {
        "colab": {
          "base_uri": "https://localhost:8080/"
        },
        "id": "8xXGHVOIlheA",
        "outputId": "a6fe69cc-2529-40eb-dd37-c94072c22c91"
      },
      "outputs": [
        {
          "output_type": "stream",
          "name": "stderr",
          "text": [
            "Copying files: 150 files [00:02, 62.65 files/s]\n"
          ]
        }
      ],
      "source": [
        "import splitfolders\n",
        "splitfolders.ratio(\"covid_dataset\", output=\"split\", seed=1337, ratio=(.8, .1, .1), group_prefix=None)"
      ]
    },
    {
      "cell_type": "markdown",
      "metadata": {
        "id": "4_rTBEKCtaTR"
      },
      "source": [
        "**6. Loading the dataset with normalization in batches**"
      ]
    },
    {
      "cell_type": "code",
      "execution_count": 47,
      "metadata": {
        "colab": {
          "base_uri": "https://localhost:8080/"
        },
        "id": "4of-TiQPlkCZ",
        "outputId": "ad737e30-8388-438b-e8e7-370124e83d13"
      },
      "outputs": [
        {
          "output_type": "stream",
          "name": "stdout",
          "text": [
            "Found 120 images belonging to 3 classes.\n",
            "Found 15 images belonging to 3 classes.\n",
            "Found 15 images belonging to 3 classes.\n"
          ]
        }
      ],
      "source": [
        "from keras.preprocessing.image import ImageDataGenerator\n",
        "\n",
        "# Normalize training and validation data in the range of 0 to 1\n",
        "train_datagen = ImageDataGenerator(rescale=1./255)\n",
        "validation_datagen = ImageDataGenerator(rescale=1./255)\n",
        "test_datagen = ImageDataGenerator(rescale=1./255)\n",
        "\n",
        "# Read the training sample and set the batch size\n",
        "train_generator = train_datagen.flow_from_directory(\n",
        "        'split/train/',\n",
        "        target_size=(128, 128),\n",
        "        batch_size=8,\n",
        "        seed=100,\n",
        "        class_mode='categorical')\n",
        "\n",
        "# Read Validation data from directory and define target size with batch size\n",
        "validation_generator = validation_datagen.flow_from_directory(\n",
        "        'split/val/',\n",
        "        target_size=(128, 128),\n",
        "        batch_size=8,\n",
        "        class_mode='categorical',\n",
        "        seed=1000,\n",
        "        shuffle=False)\n",
        "\n",
        "test_generator = test_datagen.flow_from_directory(\n",
        "        'split/test/',\n",
        "        target_size=(128, 128),\n",
        "        batch_size=8,\n",
        "        seed=500,\n",
        "        class_mode='categorical',\n",
        "        shuffle=False)"
      ]
    },
    {
      "cell_type": "markdown",
      "metadata": {
        "id": "ZqmlFmyitf8O"
      },
      "source": [
        "**7. Model Building**"
      ]
    },
    {
      "cell_type": "code",
      "execution_count": 48,
      "metadata": {
        "colab": {
          "base_uri": "https://localhost:8080/"
        },
        "id": "RrA7f0eKl4tH",
        "outputId": "2a3f7849-216e-41cc-a477-8f3b202aeee5"
      },
      "outputs": [
        {
          "output_type": "stream",
          "name": "stdout",
          "text": [
            "Model: \"model_2\"\n",
            "_________________________________________________________________\n",
            " Layer (type)                Output Shape              Param #   \n",
            "=================================================================\n",
            " input_3 (InputLayer)        [(None, 128, 128, 3)]     0         \n",
            "                                                                 \n",
            " flatten_2 (Flatten)         (None, 49152)             0         \n",
            "                                                                 \n",
            " dense_6 (Dense)             (None, 32)                1572896   \n",
            "                                                                 \n",
            " dense_7 (Dense)             (None, 64)                2112      \n",
            "                                                                 \n",
            " dense_8 (Dense)             (None, 3)                 195       \n",
            "                                                                 \n",
            "=================================================================\n",
            "Total params: 1575203 (6.01 MB)\n",
            "Trainable params: 1575203 (6.01 MB)\n",
            "Non-trainable params: 0 (0.00 Byte)\n",
            "_________________________________________________________________\n"
          ]
        }
      ],
      "source": [
        "from tensorflow import keras\n",
        "from tensorflow.keras import layers\n",
        "inputs = keras.Input(shape=(128, 128,3))\n",
        "x = layers.Flatten()(inputs)\n",
        "x = layers.Dense(32, activation=\"relu\")(x)\n",
        "x = layers.Dense(64, activation='relu')(x)\n",
        "outputs = layers.Dense(3, activation=\"softmax\")(x)\n",
        "model = keras.Model(inputs, outputs)\n",
        "model.summary()"
      ]
    },
    {
      "cell_type": "markdown",
      "metadata": {
        "id": "_437haxhtjFa"
      },
      "source": [
        "**8. Model Compilation and Training**"
      ]
    },
    {
      "cell_type": "code",
      "execution_count": 58,
      "metadata": {
        "colab": {
          "base_uri": "https://localhost:8080/"
        },
        "id": "DixxjVJelrcg",
        "outputId": "d49b8e06-221e-4c6a-c361-cb0a32bc148a"
      },
      "outputs": [
        {
          "output_type": "stream",
          "name": "stdout",
          "text": [
            "Epoch 1/100\n",
            "15/15 [==============================] - 3s 76ms/step - loss: 5.2302 - acc: 0.3417 - val_loss: 1.1003 - val_acc: 0.3333\n",
            "Epoch 2/100\n",
            "15/15 [==============================] - 1s 57ms/step - loss: 1.1021 - acc: 0.3333 - val_loss: 1.0991 - val_acc: 0.3333\n",
            "Epoch 3/100\n",
            "15/15 [==============================] - 1s 59ms/step - loss: 1.1004 - acc: 0.3333 - val_loss: 1.0986 - val_acc: 0.3333\n",
            "Epoch 4/100\n",
            "15/15 [==============================] - 1s 55ms/step - loss: 1.0991 - acc: 0.3167 - val_loss: 1.0986 - val_acc: 0.3333\n",
            "Epoch 5/100\n",
            "15/15 [==============================] - 1s 56ms/step - loss: 1.1005 - acc: 0.3333 - val_loss: 1.0986 - val_acc: 0.3333\n",
            "Epoch 6/100\n",
            "15/15 [==============================] - 1s 55ms/step - loss: 1.0993 - acc: 0.2750 - val_loss: 1.0986 - val_acc: 0.3333\n",
            "Epoch 7/100\n",
            "15/15 [==============================] - 1s 55ms/step - loss: 1.0999 - acc: 0.3083 - val_loss: 1.0987 - val_acc: 0.3333\n",
            "Epoch 8/100\n",
            "15/15 [==============================] - 1s 58ms/step - loss: 1.0994 - acc: 0.3167 - val_loss: 1.0986 - val_acc: 0.3333\n",
            "Epoch 9/100\n",
            "15/15 [==============================] - 1s 56ms/step - loss: 1.1003 - acc: 0.2750 - val_loss: 1.0987 - val_acc: 0.3333\n",
            "Epoch 10/100\n",
            "15/15 [==============================] - 1s 57ms/step - loss: 1.0995 - acc: 0.3333 - val_loss: 1.0987 - val_acc: 0.3333\n",
            "Epoch 11/100\n",
            "15/15 [==============================] - 1s 71ms/step - loss: 1.0993 - acc: 0.2917 - val_loss: 1.0986 - val_acc: 0.3333\n",
            "Epoch 12/100\n",
            "15/15 [==============================] - 1s 75ms/step - loss: 1.1009 - acc: 0.3333 - val_loss: 1.0987 - val_acc: 0.3333\n",
            "Epoch 13/100\n",
            "15/15 [==============================] - 1s 78ms/step - loss: 1.1007 - acc: 0.2417 - val_loss: 1.0987 - val_acc: 0.3333\n",
            "Epoch 14/100\n",
            "15/15 [==============================] - 1s 63ms/step - loss: 1.0992 - acc: 0.2833 - val_loss: 1.0986 - val_acc: 0.3333\n",
            "Epoch 15/100\n",
            "15/15 [==============================] - 1s 58ms/step - loss: 1.0994 - acc: 0.3333 - val_loss: 1.0987 - val_acc: 0.3333\n",
            "Epoch 16/100\n",
            "15/15 [==============================] - 1s 57ms/step - loss: 1.1007 - acc: 0.2917 - val_loss: 1.0986 - val_acc: 0.3333\n",
            "Epoch 17/100\n",
            "15/15 [==============================] - 1s 62ms/step - loss: 1.0995 - acc: 0.3083 - val_loss: 1.0986 - val_acc: 0.3333\n",
            "Epoch 18/100\n",
            "15/15 [==============================] - 1s 63ms/step - loss: 1.0994 - acc: 0.3333 - val_loss: 1.0986 - val_acc: 0.3333\n",
            "Epoch 19/100\n",
            "15/15 [==============================] - 1s 76ms/step - loss: 1.0995 - acc: 0.2917 - val_loss: 1.0986 - val_acc: 0.3333\n",
            "Epoch 20/100\n",
            "15/15 [==============================] - 1s 80ms/step - loss: 1.1010 - acc: 0.2167 - val_loss: 1.0987 - val_acc: 0.3333\n",
            "Epoch 21/100\n",
            "15/15 [==============================] - 1s 63ms/step - loss: 1.0989 - acc: 0.3333 - val_loss: 1.0986 - val_acc: 0.3333\n",
            "Epoch 22/100\n",
            "15/15 [==============================] - 1s 60ms/step - loss: 1.0992 - acc: 0.2917 - val_loss: 1.0986 - val_acc: 0.3333\n",
            "Epoch 23/100\n",
            "15/15 [==============================] - 1s 74ms/step - loss: 1.0989 - acc: 0.3250 - val_loss: 1.0986 - val_acc: 0.3333\n",
            "Epoch 24/100\n",
            "15/15 [==============================] - 1s 73ms/step - loss: 1.0994 - acc: 0.2833 - val_loss: 1.0986 - val_acc: 0.3333\n",
            "Epoch 25/100\n",
            "15/15 [==============================] - 1s 87ms/step - loss: 1.1000 - acc: 0.3333 - val_loss: 1.0987 - val_acc: 0.3333\n",
            "Epoch 26/100\n",
            "15/15 [==============================] - 1s 57ms/step - loss: 1.0991 - acc: 0.3333 - val_loss: 1.0986 - val_acc: 0.3333\n",
            "Epoch 27/100\n",
            "15/15 [==============================] - 1s 58ms/step - loss: 1.0998 - acc: 0.3333 - val_loss: 1.0987 - val_acc: 0.3333\n",
            "Epoch 28/100\n",
            "15/15 [==============================] - 1s 58ms/step - loss: 1.0993 - acc: 0.3333 - val_loss: 1.0987 - val_acc: 0.3333\n",
            "Epoch 29/100\n",
            "15/15 [==============================] - 1s 57ms/step - loss: 1.1011 - acc: 0.3000 - val_loss: 1.0987 - val_acc: 0.3333\n",
            "Epoch 30/100\n",
            "15/15 [==============================] - 1s 59ms/step - loss: 1.0992 - acc: 0.3333 - val_loss: 1.0986 - val_acc: 0.3333\n",
            "Epoch 31/100\n",
            "15/15 [==============================] - 1s 58ms/step - loss: 1.0991 - acc: 0.3333 - val_loss: 1.0986 - val_acc: 0.3333\n",
            "Epoch 32/100\n",
            "15/15 [==============================] - 1s 56ms/step - loss: 1.0991 - acc: 0.3167 - val_loss: 1.0987 - val_acc: 0.3333\n",
            "Epoch 33/100\n",
            "15/15 [==============================] - 1s 56ms/step - loss: 1.0995 - acc: 0.3333 - val_loss: 1.0988 - val_acc: 0.3333\n",
            "Epoch 34/100\n",
            "15/15 [==============================] - 1s 54ms/step - loss: 1.1000 - acc: 0.2917 - val_loss: 1.0986 - val_acc: 0.3333\n",
            "Epoch 35/100\n",
            "15/15 [==============================] - 1s 58ms/step - loss: 1.0991 - acc: 0.3000 - val_loss: 1.0986 - val_acc: 0.3333\n",
            "Epoch 36/100\n",
            "15/15 [==============================] - 1s 58ms/step - loss: 1.0996 - acc: 0.2500 - val_loss: 1.0986 - val_acc: 0.3333\n",
            "Epoch 37/100\n",
            "15/15 [==============================] - 1s 76ms/step - loss: 1.0998 - acc: 0.2917 - val_loss: 1.0987 - val_acc: 0.3333\n",
            "Epoch 38/100\n",
            "15/15 [==============================] - 1s 76ms/step - loss: 1.0998 - acc: 0.2750 - val_loss: 1.0987 - val_acc: 0.3333\n",
            "Epoch 39/100\n",
            "15/15 [==============================] - 1s 78ms/step - loss: 1.0993 - acc: 0.3333 - val_loss: 1.0987 - val_acc: 0.3333\n",
            "Epoch 40/100\n",
            "15/15 [==============================] - 1s 55ms/step - loss: 1.0998 - acc: 0.2833 - val_loss: 1.0986 - val_acc: 0.3333\n",
            "Epoch 41/100\n",
            "15/15 [==============================] - 1s 55ms/step - loss: 1.0997 - acc: 0.2917 - val_loss: 1.0986 - val_acc: 0.3333\n",
            "Epoch 42/100\n",
            "15/15 [==============================] - 1s 55ms/step - loss: 1.0997 - acc: 0.2667 - val_loss: 1.0986 - val_acc: 0.3333\n",
            "Epoch 43/100\n",
            "15/15 [==============================] - 1s 58ms/step - loss: 1.0992 - acc: 0.3333 - val_loss: 1.0987 - val_acc: 0.3333\n",
            "Epoch 44/100\n",
            "15/15 [==============================] - 1s 56ms/step - loss: 1.0998 - acc: 0.2750 - val_loss: 1.0986 - val_acc: 0.3333\n",
            "Epoch 45/100\n",
            "15/15 [==============================] - 1s 57ms/step - loss: 1.0997 - acc: 0.3333 - val_loss: 1.0986 - val_acc: 0.3333\n",
            "Epoch 46/100\n",
            "15/15 [==============================] - 1s 61ms/step - loss: 1.0997 - acc: 0.3333 - val_loss: 1.0987 - val_acc: 0.3333\n",
            "Epoch 47/100\n",
            "15/15 [==============================] - 1s 57ms/step - loss: 1.1001 - acc: 0.3000 - val_loss: 1.0987 - val_acc: 0.3333\n",
            "Epoch 48/100\n",
            "15/15 [==============================] - 1s 57ms/step - loss: 1.0988 - acc: 0.3333 - val_loss: 1.0986 - val_acc: 0.3333\n",
            "Epoch 49/100\n",
            "15/15 [==============================] - 1s 63ms/step - loss: 1.0994 - acc: 0.3333 - val_loss: 1.0986 - val_acc: 0.3333\n",
            "Epoch 50/100\n",
            "15/15 [==============================] - 1s 88ms/step - loss: 1.0990 - acc: 0.2917 - val_loss: 1.0986 - val_acc: 0.3333\n",
            "Epoch 51/100\n",
            "15/15 [==============================] - 1s 62ms/step - loss: 1.0994 - acc: 0.2917 - val_loss: 1.0986 - val_acc: 0.3333\n",
            "Epoch 52/100\n",
            "15/15 [==============================] - 1s 56ms/step - loss: 1.0996 - acc: 0.3333 - val_loss: 1.0987 - val_acc: 0.3333\n",
            "Epoch 53/100\n",
            "15/15 [==============================] - 1s 55ms/step - loss: 1.0998 - acc: 0.3000 - val_loss: 1.0986 - val_acc: 0.3333\n",
            "Epoch 54/100\n",
            "15/15 [==============================] - 1s 56ms/step - loss: 1.0995 - acc: 0.2917 - val_loss: 1.0986 - val_acc: 0.3333\n",
            "Epoch 55/100\n",
            "15/15 [==============================] - 1s 60ms/step - loss: 1.0992 - acc: 0.3333 - val_loss: 1.0986 - val_acc: 0.3333\n",
            "Epoch 56/100\n",
            "15/15 [==============================] - 1s 57ms/step - loss: 1.0993 - acc: 0.3333 - val_loss: 1.0987 - val_acc: 0.3333\n",
            "Epoch 57/100\n",
            "15/15 [==============================] - 1s 57ms/step - loss: 1.0990 - acc: 0.2917 - val_loss: 1.0986 - val_acc: 0.3333\n",
            "Epoch 58/100\n",
            "15/15 [==============================] - 1s 58ms/step - loss: 1.0996 - acc: 0.2833 - val_loss: 1.0986 - val_acc: 0.3333\n",
            "Epoch 59/100\n",
            "15/15 [==============================] - 1s 60ms/step - loss: 1.0996 - acc: 0.2833 - val_loss: 1.0986 - val_acc: 0.3333\n",
            "Epoch 60/100\n",
            "15/15 [==============================] - 1s 60ms/step - loss: 1.0997 - acc: 0.3000 - val_loss: 1.0986 - val_acc: 0.3333\n",
            "Epoch 61/100\n",
            "15/15 [==============================] - 1s 76ms/step - loss: 1.0993 - acc: 0.2833 - val_loss: 1.0986 - val_acc: 0.3333\n",
            "Epoch 62/100\n",
            "15/15 [==============================] - 1s 74ms/step - loss: 1.0993 - acc: 0.3333 - val_loss: 1.0986 - val_acc: 0.3333\n",
            "Epoch 63/100\n",
            "15/15 [==============================] - 1s 77ms/step - loss: 1.0995 - acc: 0.3167 - val_loss: 1.0987 - val_acc: 0.3333\n",
            "Epoch 64/100\n",
            "15/15 [==============================] - 1s 57ms/step - loss: 1.0999 - acc: 0.3333 - val_loss: 1.0987 - val_acc: 0.3333\n",
            "Epoch 65/100\n",
            "15/15 [==============================] - 1s 57ms/step - loss: 1.0996 - acc: 0.2917 - val_loss: 1.0986 - val_acc: 0.3333\n",
            "Epoch 66/100\n",
            "15/15 [==============================] - 1s 57ms/step - loss: 1.0990 - acc: 0.3000 - val_loss: 1.0986 - val_acc: 0.3333\n",
            "Epoch 67/100\n",
            "15/15 [==============================] - 1s 56ms/step - loss: 1.0991 - acc: 0.3333 - val_loss: 1.0986 - val_acc: 0.3333\n",
            "Epoch 68/100\n",
            "15/15 [==============================] - 1s 56ms/step - loss: 1.1008 - acc: 0.2333 - val_loss: 1.0987 - val_acc: 0.3333\n",
            "Epoch 69/100\n",
            "15/15 [==============================] - 1s 55ms/step - loss: 1.0988 - acc: 0.3167 - val_loss: 1.0986 - val_acc: 0.3333\n",
            "Epoch 70/100\n",
            "15/15 [==============================] - 1s 58ms/step - loss: 1.0994 - acc: 0.3333 - val_loss: 1.0987 - val_acc: 0.3333\n",
            "Epoch 71/100\n",
            "15/15 [==============================] - 1s 56ms/step - loss: 1.1005 - acc: 0.3333 - val_loss: 1.0987 - val_acc: 0.3333\n",
            "Epoch 72/100\n",
            "15/15 [==============================] - 1s 58ms/step - loss: 1.1002 - acc: 0.2917 - val_loss: 1.0986 - val_acc: 0.3333\n",
            "Epoch 73/100\n",
            "15/15 [==============================] - 1s 55ms/step - loss: 1.1012 - acc: 0.3000 - val_loss: 1.0987 - val_acc: 0.3333\n",
            "Epoch 74/100\n",
            "15/15 [==============================] - 1s 83ms/step - loss: 1.0994 - acc: 0.3333 - val_loss: 1.0987 - val_acc: 0.3333\n",
            "Epoch 75/100\n",
            "15/15 [==============================] - 1s 80ms/step - loss: 1.0990 - acc: 0.3333 - val_loss: 1.0986 - val_acc: 0.3333\n",
            "Epoch 76/100\n",
            "15/15 [==============================] - 2s 115ms/step - loss: 1.0996 - acc: 0.3333 - val_loss: 1.0987 - val_acc: 0.3333\n",
            "Epoch 77/100\n",
            "15/15 [==============================] - 1s 59ms/step - loss: 1.0999 - acc: 0.3083 - val_loss: 1.0987 - val_acc: 0.3333\n",
            "Epoch 78/100\n",
            "15/15 [==============================] - 1s 59ms/step - loss: 1.0994 - acc: 0.2750 - val_loss: 1.0986 - val_acc: 0.3333\n",
            "Epoch 79/100\n",
            "15/15 [==============================] - 1s 59ms/step - loss: 1.0996 - acc: 0.2667 - val_loss: 1.0986 - val_acc: 0.3333\n",
            "Epoch 80/100\n",
            "15/15 [==============================] - 1s 60ms/step - loss: 1.1004 - acc: 0.2667 - val_loss: 1.0987 - val_acc: 0.3333\n",
            "Epoch 81/100\n",
            "15/15 [==============================] - 1s 59ms/step - loss: 1.0992 - acc: 0.3333 - val_loss: 1.0986 - val_acc: 0.3333\n",
            "Epoch 82/100\n",
            "15/15 [==============================] - 1s 57ms/step - loss: 1.0991 - acc: 0.3333 - val_loss: 1.0986 - val_acc: 0.3333\n",
            "Epoch 83/100\n",
            "15/15 [==============================] - 1s 58ms/step - loss: 1.1004 - acc: 0.2833 - val_loss: 1.0987 - val_acc: 0.3333\n",
            "Epoch 84/100\n",
            "15/15 [==============================] - 1s 60ms/step - loss: 1.0991 - acc: 0.2333 - val_loss: 1.0986 - val_acc: 0.3333\n",
            "Epoch 85/100\n",
            "15/15 [==============================] - 1s 58ms/step - loss: 1.1017 - acc: 0.3333 - val_loss: 1.0989 - val_acc: 0.3333\n",
            "Epoch 86/100\n",
            "15/15 [==============================] - 1s 73ms/step - loss: 1.0993 - acc: 0.3333 - val_loss: 1.0986 - val_acc: 0.3333\n",
            "Epoch 87/100\n",
            "15/15 [==============================] - 1s 77ms/step - loss: 1.0992 - acc: 0.2667 - val_loss: 1.0986 - val_acc: 0.3333\n",
            "Epoch 88/100\n",
            "15/15 [==============================] - 1s 81ms/step - loss: 1.0995 - acc: 0.3083 - val_loss: 1.0987 - val_acc: 0.3333\n",
            "Epoch 89/100\n",
            "15/15 [==============================] - 1s 58ms/step - loss: 1.0992 - acc: 0.3333 - val_loss: 1.0986 - val_acc: 0.3333\n",
            "Epoch 90/100\n",
            "15/15 [==============================] - 1s 57ms/step - loss: 1.0992 - acc: 0.3167 - val_loss: 1.0986 - val_acc: 0.3333\n",
            "Epoch 91/100\n",
            "15/15 [==============================] - 1s 57ms/step - loss: 1.0995 - acc: 0.3250 - val_loss: 1.0986 - val_acc: 0.3333\n",
            "Epoch 92/100\n",
            "15/15 [==============================] - 1s 56ms/step - loss: 1.0993 - acc: 0.3333 - val_loss: 1.0986 - val_acc: 0.3333\n",
            "Epoch 93/100\n",
            "15/15 [==============================] - 1s 59ms/step - loss: 1.0992 - acc: 0.3333 - val_loss: 1.0986 - val_acc: 0.3333\n",
            "Epoch 94/100\n",
            "15/15 [==============================] - 1s 57ms/step - loss: 1.0994 - acc: 0.3083 - val_loss: 1.0986 - val_acc: 0.3333\n",
            "Epoch 95/100\n",
            "15/15 [==============================] - 1s 57ms/step - loss: 1.0992 - acc: 0.2667 - val_loss: 1.0986 - val_acc: 0.3333\n",
            "Epoch 96/100\n",
            "15/15 [==============================] - 1s 57ms/step - loss: 1.1001 - acc: 0.3333 - val_loss: 1.0987 - val_acc: 0.3333\n",
            "Epoch 97/100\n",
            "15/15 [==============================] - 1s 58ms/step - loss: 1.0994 - acc: 0.3333 - val_loss: 1.0986 - val_acc: 0.3333\n",
            "Epoch 98/100\n",
            "15/15 [==============================] - 1s 65ms/step - loss: 1.1002 - acc: 0.2750 - val_loss: 1.0987 - val_acc: 0.3333\n",
            "Epoch 99/100\n",
            "15/15 [==============================] - 1s 62ms/step - loss: 1.0994 - acc: 0.3333 - val_loss: 1.0986 - val_acc: 0.3333\n",
            "Epoch 100/100\n",
            "15/15 [==============================] - 1s 79ms/step - loss: 1.0995 - acc: 0.3000 - val_loss: 1.0986 - val_acc: 0.3333\n"
          ]
        }
      ],
      "source": [
        "from tensorflow.keras.optimizers import Adam\n",
        "\n",
        "adam = Adam(learning_rate=0.0001)\n",
        "# We are going to use accuracy metrics and cross entropy loss as performance parameters\n",
        "model.compile(adam, loss='categorical_crossentropy', metrics=['acc'])\n",
        "# Train the model\n",
        "history = model.fit(train_generator,\n",
        "      steps_per_epoch=train_generator.samples/train_generator.batch_size,\n",
        "      epochs=100,\n",
        "      validation_data=validation_generator,\n",
        "      validation_steps=validation_generator.samples/validation_generator.batch_size,\n",
        "      verbose=1)"
      ]
    },
    {
      "cell_type": "markdown",
      "metadata": {
        "id": "7h2kqqa0tpx9"
      },
      "source": [
        "**9. Model saving**"
      ]
    },
    {
      "cell_type": "code",
      "execution_count": 59,
      "metadata": {
        "id": "AMlZWxBhnfjh",
        "colab": {
          "base_uri": "https://localhost:8080/"
        },
        "outputId": "e5ca85db-152d-4f34-9a5b-8b97705f727a"
      },
      "outputs": [
        {
          "output_type": "stream",
          "name": "stderr",
          "text": [
            "/usr/local/lib/python3.10/dist-packages/keras/src/engine/training.py:3103: UserWarning: You are saving your model as an HDF5 file via `model.save()`. This file format is considered legacy. We recommend using instead the native Keras format, e.g. `model.save('my_model.keras')`.\n",
            "  saving_api.save_model(\n"
          ]
        }
      ],
      "source": [
        "model.save('covid_classification.h5')"
      ]
    },
    {
      "cell_type": "markdown",
      "metadata": {
        "id": "v64VrifGtsSn"
      },
      "source": [
        "**10. Model loading**"
      ]
    },
    {
      "cell_type": "code",
      "execution_count": 60,
      "metadata": {
        "id": "h5kAXwzBoIzp"
      },
      "outputs": [],
      "source": [
        "from tensorflow.keras import models\n",
        "model = models.load_model('covid_classification.h5')"
      ]
    },
    {
      "cell_type": "markdown",
      "metadata": {
        "id": "EuGiWfjQtvDq"
      },
      "source": [
        "**11. Model weights saving**"
      ]
    },
    {
      "cell_type": "code",
      "execution_count": 61,
      "metadata": {
        "id": "brmKRhGtoZVA"
      },
      "outputs": [],
      "source": [
        "model.save_weights('covid_classification_weights.h5')"
      ]
    },
    {
      "cell_type": "markdown",
      "metadata": {
        "id": "g_mHfakptxUF"
      },
      "source": [
        "**12. Model weights loading**"
      ]
    },
    {
      "cell_type": "code",
      "execution_count": 62,
      "metadata": {
        "id": "Oc3YG_vioL9a"
      },
      "outputs": [],
      "source": [
        "model.load_weights('covid_classification_weights.h5')"
      ]
    },
    {
      "cell_type": "markdown",
      "metadata": {
        "id": "YJhgz0AAtzcm"
      },
      "source": [
        "**13. Plotting accuracy and loss graph for training and validation dataset**"
      ]
    },
    {
      "cell_type": "code",
      "execution_count": 63,
      "metadata": {
        "id": "lKLbBshSocU6"
      },
      "outputs": [],
      "source": [
        "train_acc = history.history['acc']\n",
        "val_acc = history.history['val_acc']\n",
        "train_loss = history.history['loss']\n",
        "val_loss = history.history['val_loss']"
      ]
    },
    {
      "cell_type": "code",
      "execution_count": 64,
      "metadata": {
        "colab": {
          "base_uri": "https://localhost:8080/",
          "height": 904
        },
        "id": "BfqOqEpVogvN",
        "outputId": "8ce77df9-3657-4f04-b6d0-c2a1fe15dda9"
      },
      "outputs": [
        {
          "output_type": "display_data",
          "data": {
            "text/plain": [
              "<Figure size 640x480 with 1 Axes>"
            ],
            "image/png": "[encoded data removed]"
          },
          "metadata": {}
        },
        {
          "output_type": "display_data",
          "data": {
            "text/plain": [
              "<Figure size 640x480 with 0 Axes>"
            ]
          },
          "metadata": {}
        },
        {
          "output_type": "display_data",
          "data": {
            "text/plain": [
              "<Figure size 640x480 with 1 Axes>"
            ],
            "image/png": "[encoded data removed]"
          },
          "metadata": {}
        }
      ],
      "source": [
        "import matplotlib.pyplot as plt\n",
        "epochs = range(len(train_acc))\n",
        "plt.plot(epochs, train_acc, 'b', label='Training Accuracy')\n",
        "plt.plot(epochs, val_acc, 'r', label='Validation Accuracy')\n",
        "plt.title('Training and Validation Accuracy')\n",
        "plt.legend()\n",
        "plt.figure()\n",
        "plt.show()\n",
        "\n",
        "plt.plot(epochs, train_loss, 'b', label='Training Loss')\n",
        "plt.plot(epochs, val_loss, 'r', label='Validation Loss')\n",
        "plt.title('Training and Validation Loss')\n",
        "plt.legend()\n",
        "plt.show()\n"
      ]
    },
    {
      "cell_type": "markdown",
      "metadata": {
        "id": "LoVhONtnt3sq"
      },
      "source": [
        "**14. Evaluate model performance on test dataset**"
      ]
    },
    {
      "cell_type": "code",
      "execution_count": 56,
      "metadata": {
        "colab": {
          "base_uri": "https://localhost:8080/"
        },
        "id": "dxXMTffHoiVy",
        "outputId": "6046c90e-89bd-4183-b39a-75acdb4c4421"
      },
      "outputs": [
        {
          "output_type": "stream",
          "name": "stdout",
          "text": [
            "1/1 [==============================] - 0s 50ms/step - loss: 2.1934 - acc: 0.4000\n",
            "[2.1933553218841553, 0.4000000059604645]\n",
            "['loss', 'acc']\n"
          ]
        }
      ],
      "source": [
        "test_output= model.evaluate(test_generator, steps=test_generator.samples/test_generator.batch_size, verbose=1)\n",
        "print(test_output)\n",
        "print(model.metrics_names)"
      ]
    },
    {
      "cell_type": "markdown",
      "metadata": {
        "id": "inzAGua1o1we"
      },
      "source": [
        "References:\n",
        "\n",
        "1. https://pypi.org/project/split-folders/\n",
        "2. https://keras.io/"
      ]
    }
  ],
  "metadata": {
    "accelerator": "GPU",
    "colab": {
      "provenance": [],
      "include_colab_link": true
    },
    "kernelspec": {
      "display_name": "Python 3",
      "name": "python3"
    },
    "language_info": {
      "name": "python"
    }
  },
  "nbformat": 4,
  "nbformat_minor": 0
}